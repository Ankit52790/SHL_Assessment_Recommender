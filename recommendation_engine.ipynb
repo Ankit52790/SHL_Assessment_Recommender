{
  "cells": [
    {
      "cell_type": "markdown",
      "metadata": {
        "id": "QevcZS4ApweH"
      },
      "source": [
        "#  Recommendation Engine for SHL Assessments"
      ]
    },
    {
      "cell_type": "code",
      "execution_count": null,
      "metadata": {
        "id": "nIIsOmeFp4Xi"
      },
      "outputs": [],
      "source": [
        "# Recommendation Engine for SHL Assessments\n",
        "\n",
        "import pandas as pd\n",
        "from sklearn.feature_extraction.text import TfidfVectorizer\n",
        "from sklearn.metrics.pairwise import cosine_similarity\n"
      ]
    },
    {
      "cell_type": "markdown",
      "metadata": {
        "id": "O8DqrvZ6p2pd"
      },
      "source": [
        "# Load datasets"
      ]
    },
    {
      "cell_type": "code",
      "execution_count": null,
      "metadata": {
        "id": "quKsRALlqCha"
      },
      "outputs": [],
      "source": [
        "# Load datasets\n",
        "assessments = pd.read_csv(\"/content/assessments.csv\")\n",
        "users = pd.read_csv(\"/content/users.csv\")"
      ]
    },
    {
      "cell_type": "markdown",
      "metadata": {
        "id": "il1rXw88qJu3"
      },
      "source": [
        "# Preprocess skill/interests"
      ]
    },
    {
      "cell_type": "code",
      "execution_count": null,
      "metadata": {
        "id": "ybogkZkBqQwi"
      },
      "outputs": [],
      "source": [
        "# Preprocess skill/interests\n",
        "assessments[\"skill_area\"] = assessments[\"skill_area\"].fillna(\"\")\n",
        "users[\"interests\"] = users[\"interests\"].fillna(\"\")"
      ]
    },
    {
      "cell_type": "markdown",
      "metadata": {
        "id": "GEYGaQdcqYep"
      },
      "source": [
        "# TF-IDF Vectorization"
      ]
    },
    {
      "cell_type": "code",
      "execution_count": null,
      "metadata": {
        "id": "cyIGbtXxqeW1"
      },
      "outputs": [],
      "source": [
        "# TF-IDF Vectorization\n",
        "vectorizer = TfidfVectorizer()\n",
        "assessment_vectors = vectorizer.fit_transform(assessments[\"skill_area\"])\n",
        "user_vectors = vectorizer.transform(users[\"interests\"])"
      ]
    },
    {
      "cell_type": "markdown",
      "metadata": {
        "id": "2eulHYb0qigf"
      },
      "source": [
        "# Compute similarity"
      ]
    },
    {
      "cell_type": "code",
      "execution_count": null,
      "metadata": {
        "id": "fNOLMA40qlMQ"
      },
      "outputs": [],
      "source": [
        "# Compute similarity\n",
        "similarity_matrix = cosine_similarity(user_vectors, assessment_vectors)"
      ]
    },
    {
      "cell_type": "markdown",
      "metadata": {
        "id": "hRYW1dFdqqx-"
      },
      "source": [
        "# Get top 3 recommendations for each user"
      ]
    },
    {
      "cell_type": "code",
      "execution_count": null,
      "metadata": {
        "id": "N_yw6ImNqtMt"
      },
      "outputs": [],
      "source": [
        "# Get top 3 recommendations for each user\n",
        "recommendations = {}\n",
        "for i, user_id in enumerate(users[\"user_id\"]):\n",
        "    top_indices = similarity_matrix[i].argsort()[-3:][::-1]\n",
        "    recommended = assessments.iloc[top_indices][\"name\"].tolist()\n",
        "    recommendations[user_id] = recommended"
      ]
    },
    {
      "cell_type": "markdown",
      "metadata": {
        "id": "QeIpo3nqqxUP"
      },
      "source": [
        "# Display recommendations"
      ]
    },
    {
      "cell_type": "code",
      "execution_count": null,
      "metadata": {
        "colab": {
          "base_uri": "https://localhost:8080/"
        },
        "id": "2Q3_ja_vpbJP",
        "outputId": "f7d6ccee-fefd-436f-a49b-166114c5a801"
      },
      "outputs": [
        {
          "data": {
            "text/plain": [
              "{'U001': ['Numerical Reasoning', 'Excel Simulation', 'Java Backend Coding'],\n",
              " 'U002': ['Java Backend Coding', 'Excel Simulation', 'Verbal Reasoning'],\n",
              " 'U003': ['Excel Simulation', 'Java Backend Coding', 'Verbal Reasoning'],\n",
              " 'U004': ['Coding Test - Python', 'Java Backend Coding', 'Excel Simulation'],\n",
              " 'U005': ['Numerical Reasoning', 'Verbal Reasoning', 'Java Backend Coding']}"
            ]
          },
          "execution_count": 10,
          "metadata": {},
          "output_type": "execute_result"
        }
      ],
      "source": [
        "# Display recommendations\n",
        "recommendations\n"
      ]
    },
    {
      "cell_type": "code",
      "execution_count": null,
      "metadata": {
        "id": "OE39CN2JrLWZ"
      },
      "outputs": [],
      "source": []
    }
  ],
  "metadata": {
    "colab": {
      "provenance": []
    },
    "kernelspec": {
      "display_name": "Python 3",
      "name": "python3"
    },
    "language_info": {
      "name": "python"
    }
  },
  "nbformat": 4,
  "nbformat_minor": 0
}
